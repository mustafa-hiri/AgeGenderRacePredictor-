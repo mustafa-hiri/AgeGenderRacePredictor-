{
 "cells": [
  {
   "cell_type": "markdown",
   "id": "58908913",
   "metadata": {},
   "source": [
    "### Processing for Age and Gender dataset\n",
    "I have divided the dataset into train (80%) and test (20%)"
   ]
  },
  {
   "cell_type": "code",
   "execution_count": 10,
   "id": "cd3bdce2",
   "metadata": {},
   "outputs": [
    {
     "name": "stdout",
     "output_type": "stream",
     "text": [
      "Moved 18967 images to the train directory and 4741 images to the test directory.\n"
     ]
    }
   ],
   "source": [
    "import os\n",
    "import shutil\n",
    "import random\n",
    "\n",
    "# Define paths\n",
    "data_dir = 'data/utkface_aligned_cropped/UTKFace/'\n",
    "train_dir = 'data/train/'\n",
    "test_dir = 'data/test/'\n",
    "\n",
    "# Create train and test directories if they don't exist\n",
    "os.makedirs(train_dir, exist_ok=True)\n",
    "os.makedirs(test_dir, exist_ok=True)\n",
    "\n",
    "# Get list of image files\n",
    "image_files = os.listdir(data_dir)\n",
    "\n",
    "# Set the percentage of images to be moved to the test directory\n",
    "test_percentage = 0.2\n",
    "\n",
    "# Calculate the number of images to move to the test directory\n",
    "num_test_images = int(test_percentage * len(image_files))\n",
    "\n",
    "# Randomly select images for the test directory\n",
    "test_images = random.sample(image_files, num_test_images)\n",
    "\n",
    "# Move images to the train or test directory based on selection\n",
    "for image in image_files:\n",
    "    src = os.path.join(data_dir, image)\n",
    "    if image in test_images:\n",
    "        dst = os.path.join(test_dir, image)\n",
    "    else:\n",
    "        dst = os.path.join(train_dir, image)\n",
    "    shutil.move(src, dst)\n",
    "\n",
    "print(\"Moved {} images to the train directory and {} images to the test directory.\".format(len(image_files) - num_test_images, num_test_images))\n"
   ]
  },
  {
   "cell_type": "markdown",
   "id": "395d1eb2",
   "metadata": {},
   "source": [
    "### Processing for Race dataset:\n",
    "The reason that i made this processing for the race dataset is to create a balanced dataset."
   ]
  },
  {
   "cell_type": "code",
   "execution_count": 24,
   "id": "36466e7b",
   "metadata": {},
   "outputs": [],
   "source": [
    "import os\n",
    "import shutil\n",
    "import random\n",
    "1# Define paths\n",
    "data_dir = 'data/utkface_aligned_cropped/UTKFace/'\n",
    "train_race_dir = 'data/train_race/'\n",
    "train_dir = 'data/train/'\n",
    "# Create train and test directories if they don't exist\n",
    "os.makedirs(train_race_dir, exist_ok=True)"
   ]
  },
  {
   "cell_type": "markdown",
   "id": "a4c825c8",
   "metadata": {},
   "source": [
    "When i dispay the histogram od Race, I see that all the avrege of all the category are about 5000, so i decide to limit the White categ in 5000, but you still can use like Smote methode to handel this imb;anced dataset problem and get more dateset.\n",
    "This is the Race dataset before processing\n",
    "\n",
    "![Optional Image Caption](hist_race.png)"
   ]
  },
  {
   "cell_type": "code",
   "execution_count": 16,
   "id": "7dca379e",
   "metadata": {},
   "outputs": [
    {
     "name": "stdout",
     "output_type": "stream",
     "text": [
      "Skipping due to unexpected format: 39_1_20170116174525125.jpg.chip.jpg\n",
      "Skipping due to unexpected format: 61_1_20170109142408075.jpg.chip.jpg\n",
      "Skipping due to unexpected format: 61_1_20170109150557335.jpg.chip.jpg\n"
     ]
    }
   ],
   "source": [
    "import os\n",
    "\n",
    "race_list = []\n",
    "count = 0\n",
    "\n",
    "for filename in os.listdir('data/train/'):\n",
    "    # Example of skipping a specific problematic image by name\n",
    "    if \"specific_problematic_image_identifier\" in filename:\n",
    "        print(f\"Skipping specific problematic image: {filename}\")\n",
    "        continue\n",
    "\n",
    "    parts = filename.split('_')\n",
    "    # Ensure the filename has the expected number of parts for a race identifier\n",
    "    if len(parts) < 4:  # Assuming the race identifier is expected to be at least the 4th part\n",
    "        print(f\"Skipping due to unexpected format: {filename}\")\n",
    "        continue\n",
    "\n",
    "    try:\n",
    "        # Adjusting for zero-based indexing; parts[2] is the third part of the filename\n",
    "        race = int(parts[2])  # Update this index based on where the race identifier is located\n",
    "    except ValueError:\n",
    "        # Skip files where the race identifier isn't an integer\n",
    "        print(f\"Skipping, could not convert race identifier to int in filename: {filename}\")\n",
    "        continue\n",
    "\n",
    "    # Assuming race == 0 is a condition to add the file to the list\n",
    "    if race == 0 and count < 5000:\n",
    "        race_list.append(filename)\n",
    "        count += 1\n",
    "    else:\n",
    "        race_list.append(filename)"
   ]
  },
  {
   "cell_type": "code",
   "execution_count": 22,
   "id": "af488172",
   "metadata": {},
   "outputs": [
    {
     "data": {
      "text/plain": [
       "(18964,)"
      ]
     },
     "execution_count": 22,
     "metadata": {},
     "output_type": "execute_result"
    }
   ],
   "source": [
    "import numpy as np\n",
    "np.array(race_list).shape"
   ]
  },
  {
   "cell_type": "markdown",
   "id": "58664224",
   "metadata": {},
   "source": [
    "Move all Race dataset from the original file to race file"
   ]
  },
  {
   "cell_type": "code",
   "execution_count": 25,
   "id": "c9080ac1",
   "metadata": {},
   "outputs": [],
   "source": [
    "for image in race_list:\n",
    "    src = os.path.join(train_dir, image)\n",
    "    dst = os.path.join(train_race_dir, image)\n",
    "    shutil.move(src, dst)"
   ]
  }
 ],
 "metadata": {
  "kernelspec": {
   "display_name": "Python 3 (ipykernel)",
   "language": "python",
   "name": "python3"
  },
  "language_info": {
   "codemirror_mode": {
    "name": "ipython",
    "version": 3
   },
   "file_extension": ".py",
   "mimetype": "text/x-python",
   "name": "python",
   "nbconvert_exporter": "python",
   "pygments_lexer": "ipython3",
   "version": "3.10.11"
  }
 },
 "nbformat": 4,
 "nbformat_minor": 5
}
